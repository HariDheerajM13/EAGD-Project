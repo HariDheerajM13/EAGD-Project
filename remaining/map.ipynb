{
 "cells": [
  {
   "cell_type": "code",
   "execution_count": 9,
   "metadata": {},
   "outputs": [],
   "source": [
    "import folium\n",
    "\n",
    "\n",
    "latpoint = 20.5937\n",
    "longpoint = 78.9629\n",
    "map_rest=folium.Map(location=[latpoint,longpoint],zoom_start=5)\n",
    "folium.Marker([latpoint,longpoint]).add_to(map_rest)\n",
    "map_rest\n",
    "map_rest.save(\"D:/jupyter/templates/IndiamapResult.html\")"
   ]
  }
 ],
 "metadata": {
  "kernelspec": {
   "display_name": "Python 3",
   "language": "python",
   "name": "python3"
  },
  "language_info": {
   "codemirror_mode": {
    "name": "ipython",
    "version": 3
   },
   "file_extension": ".py",
   "mimetype": "text/x-python",
   "name": "python",
   "nbconvert_exporter": "python",
   "pygments_lexer": "ipython3",
   "version": "3.11.1"
  },
  "orig_nbformat": 4,
  "vscode": {
   "interpreter": {
    "hash": "5a4cf4519f29144049a84fcbaef23c2e1cabe2fbb375bf1b175f58142bd41936"
   }
  }
 },
 "nbformat": 4,
 "nbformat_minor": 2
}
